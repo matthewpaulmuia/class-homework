{
 "cells": [
  {
   "cell_type": "markdown",
   "metadata": {},
   "source": [
    "# Part 1: Canids Continued"
   ]
  },
  {
   "cell_type": "code",
   "execution_count": 1,
   "metadata": {
    "collapsed": true
   },
   "outputs": [],
   "source": [
    "file = \"/home/eeb177-student/Desktop/eeb-177/class-assignments/canids/pbdb_formatted.csv\"\n",
    "with open(file, 'r') as ff:\n",
    "    candid_recs = ff.readlines()"
   ]
  },
  {
   "cell_type": "code",
   "execution_count": 7,
   "metadata": {
    "collapsed": false
   },
   "outputs": [],
   "source": [
    "from collections import defaultdict\n",
    "\n",
    "species_ranges = defaultdict(list) \n",
    "\n",
    "for line in candid_recs:\n",
    "    species = line.split('\",\"')[5]\n",
    "    minage = float(line.split('\",\"')[10])\n",
    "    maxage = float(line.split('\",\"')[11])\n",
    "    meanage = ((minage + maxage)/2)\n",
    "    \n",
    "    species_ranges[species].append(meanage)\n",
    "    "
   ]
  },
  {
   "cell_type": "code",
   "execution_count": 9,
   "metadata": {
    "collapsed": false
   },
   "outputs": [],
   "source": [
    "# get the oldest and youngest ages of fossils for each species in dict\n",
    "output = open(\"candid-ranges.csv\", \"w\")\n",
    "\n",
    "for key in species_ranges.keys():\n",
    "    ages = species_ranges[key]\n",
    "    minage = min(ages)\n",
    "    maxage = max(ages)\n",
    "    species_range = (maxage - minage)\n",
    "    genus = key.split(\" \")[0]\n",
    "    outline = \"{},{},{},{},{}\\n\".format(genus, key, minage, maxage, species_range)\n",
    "    #print(outline)\n",
    "    output.write(outline)"
   ]
  },
  {
   "cell_type": "code",
   "execution_count": 4,
   "metadata": {
    "collapsed": false
   },
   "outputs": [],
   "source": [
    "# this is the above output, formatted so that species are listed in alphabetical order\n",
    "formatted = \"/home/eeb177-student/Desktop/eeb-177/class-homework/candid-ranges-formatted.csv\"\n",
    "with open(formatted, 'r') as rr:\n",
    "    candid_formatted = rr.readlines()\n",
    "#print(candid_formatted)"
   ]
  },
  {
   "cell_type": "code",
   "execution_count": 33,
   "metadata": {
    "collapsed": false
   },
   "outputs": [],
   "source": [
    "def first_function(FileName):\n",
    "    file = \"FileName\"\n",
    "    with open(file, 'r') as rr:\n",
    "        canid_data = rr.readlines()\n",
    "    species_info = defaultdict(list)\n",
    "    \n",
    "    for line in canid_data:\n",
    "        species = line.split('\",\"')[5]\n",
    "        minage = float(line.split('\",\"')[10])\n",
    "        maxage = float(line.split('\",\"')[11])\n",
    "        species_info[species] = {minage, maxage}\n",
    "    return (species_info)"
   ]
  },
  {
   "cell_type": "code",
   "execution_count": 36,
   "metadata": {
    "collapsed": true
   },
   "outputs": [],
   "source": [
    "def second_function(Dict, output_file):\n",
    "    output = open(\"output_file\", \"w\")\n",
    "    \n",
    "    for key in Dict():\n",
    "        ages = Dict[key]\n",
    "        minage = min(ages)\n",
    "        maxage = max(ages)\n",
    "        species_ranges = (maxage - minage)\n",
    "        genus = key.split(\" \")[0]\n",
    "        outline = \"{},{},{},{},{}\\n\".format(genus, key, minage, maxage, species_ranges)\n",
    "        output.write(outline)"
   ]
  },
  {
   "cell_type": "code",
   "execution_count": null,
   "metadata": {
    "collapsed": true
   },
   "outputs": [],
   "source": [
    "def third_function(Dict): \n",
    "    for key in Dict():\n",
    "        ages = Dict[key]\n",
    "        minage = min(ages)\n",
    "        maxage = max(ages)\n",
    "        species_range = (maxage - minage)\n",
    "    species_range.sort()\n",
    "    return(species_range)"
   ]
  }
 ],
 "metadata": {
  "anaconda-cloud": {},
  "kernelspec": {
   "display_name": "Python [default]",
   "language": "python",
   "name": "python3"
  },
  "language_info": {
   "codemirror_mode": {
    "name": "ipython",
    "version": 3
   },
   "file_extension": ".py",
   "mimetype": "text/x-python",
   "name": "python",
   "nbconvert_exporter": "python",
   "pygments_lexer": "ipython3",
   "version": "3.5.2"
  }
 },
 "nbformat": 4,
 "nbformat_minor": 2
}
