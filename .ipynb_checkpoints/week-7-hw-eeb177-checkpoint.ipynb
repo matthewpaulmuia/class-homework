{
 "cells": [
  {
   "cell_type": "markdown",
   "metadata": {},
   "source": [
    "## My Favorite Fish Species\n",
    "\n",
    "### Xenisthmus africanus\n",
    "Family: Xenisthmidae\n",
    "\n",
    "Threat to Humans: Harmless\n",
    "### Akysis pictus\n",
    "Family: Akysidae\n",
    "\n",
    "Threat to Humans: Harmless\n",
    "### Badis ruber\n",
    "Family: Badidae\n",
    "\n",
    "Threat to Humans: Harmless\n",
    "### Takifugu vermicularis\n",
    "Family: Tetraodontidae\n",
    "\n",
    "Threat to Humans: Poisinous to eat"
   ]
  }
 ],
 "metadata": {
  "anaconda-cloud": {},
  "kernelspec": {
   "display_name": "Python [default]",
   "language": "python",
   "name": "python3"
  },
  "language_info": {
   "codemirror_mode": {
    "name": "ipython",
    "version": 3
   },
   "file_extension": ".py",
   "mimetype": "text/x-python",
   "name": "python",
   "nbconvert_exporter": "python",
   "pygments_lexer": "ipython3",
   "version": "3.5.2"
  }
 },
 "nbformat": 4,
 "nbformat_minor": 2
}
