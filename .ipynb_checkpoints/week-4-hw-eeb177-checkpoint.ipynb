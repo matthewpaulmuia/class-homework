{
 "cells": [
  {
   "cell_type": "code",
   "execution_count": 6,
   "metadata": {
    "collapsed": false
   },
   "outputs": [
    {
     "name": "stdout",
     "output_type": "stream",
     "text": [
      "TGACTAGCTAATGCATATCATAAACGATAGTATGTATATATAGCTACGCAAGTA\n"
     ]
    }
   ],
   "source": [
    "#Chapter 2 Exercises\n",
    "#Complementing DNA\n",
    "\n",
    "my_dna = \"ACTGATCGATTACGTATAGTATTTGCTATCATACATATATATCGATGCGTTCAT\"\n",
    "replacement1 = my_dna.replace('A', 't')\n",
    "replacement2 = replacement1.replace('T', 'a')\n",
    "replacement3 = replacement2.replace('C', 'g')\n",
    "replacement4 = replacement3.replace('G', 'c')\n",
    "print(replacement4.upper())"
   ]
  },
  {
   "cell_type": "code",
   "execution_count": 2,
   "metadata": {
    "collapsed": false
   },
   "outputs": [
    {
     "name": "stdout",
     "output_type": "stream",
     "text": [
      "length of fragment one is 22\n",
      "length of fragment two is 33\n"
     ]
    }
   ],
   "source": [
    "#Restriction Fragement Lengths\n",
    "\n",
    "my_dna = \"ACTGATCGATTACGTATAGTAGAATTCTATCATACATATATATCGATGCGTTCAT\"\n",
    "frag1_length = my_dna.find(\"GAATTC\") + 1\n",
    "frag2_length = len(my_dna) - frag1_length\n",
    "print(\"length of fragment one is \" + str(frag1_length))\n",
    "print(\"length of fragment two is \" + str(frag2_length))"
   ]
  },
  {
   "cell_type": "code",
   "execution_count": 3,
   "metadata": {
    "collapsed": false
   },
   "outputs": [
    {
     "name": "stdout",
     "output_type": "stream",
     "text": [
      "ATCGATCGATCGATCGACTGACTAGTCATAGCTATGCATGTAGCTACTCGATCGATCGATCGATTCATCGATCGATATCGATGCATCGACTACTAT\n"
     ]
    }
   ],
   "source": [
    "#Splicing Out Introns Part 1\n",
    "\n",
    "my_dna = \"ATCGATCGATCGATCGACTGACTAGTCATAGCTATGCATGTAGCTACTCGATCGATCGATCGATCGATCGATCGATCGATCGATCATGCTATCATCGATCGATATCGATGCATCGACTACTAT\"\n",
    "exon1 = my_dna[0:64]\n",
    "exon2 = my_dna[91:]\n",
    "print(exon1 + exon2)"
   ]
  },
  {
   "cell_type": "code",
   "execution_count": 4,
   "metadata": {
    "collapsed": false
   },
   "outputs": [
    {
     "name": "stdout",
     "output_type": "stream",
     "text": [
      "78.04878048780488\n"
     ]
    }
   ],
   "source": [
    "#Splicing Out Introns Part 2\n",
    "\n",
    "my_dna = \"ATCGATCGATCGATCGACTGACTAGTCATAGCTATGCATGTAGCTACTCGATCGATCGATCGATCGATCGATCGATCGATCGATCATGCTATCATCGATCGATATCGATGCATCGACTACTAT\"\n",
    "exon1 = my_dna[0:64]\n",
    "exon2 = my_dna[91:]\n",
    "coding_length = len(exon1 + exon2)\n",
    "total_length = len(my_dna)\n",
    "print(100 * coding_length / total_length)"
   ]
  },
  {
   "cell_type": "code",
   "execution_count": 5,
   "metadata": {
    "collapsed": false
   },
   "outputs": [
    {
     "name": "stdout",
     "output_type": "stream",
     "text": [
      "ATCGATCGATCGATCGACTGACTAGTCATAGCTATGCATGTAGCTACTCGATCGATCGATCGATcgatcgatcgatcgatcgatcatgctaTCATCGATCGATATCGATGCATCGACTACTAT\n"
     ]
    }
   ],
   "source": [
    "#Splicing Out Introns Part 3\n",
    "\n",
    "my_dna = \"ATCGATCGATCGATCGACTGACTAGTCATAGCTATGCATGTAGCTACTCGATCGATCGATCGATCGATCGATCGATCGATCGATCATGCTATCATCGATCGATATCGATGCATCGACTACTAT\"\n",
    "exon1 = my_dna[0:64]\n",
    "intron = my_dna[64:91]\n",
    "exon2 = my_dna[91:]\n",
    "print(exon1 + intron.lower() + exon2)"
   ]
  },
  {
   "cell_type": "code",
   "execution_count": 1,
   "metadata": {
    "collapsed": false
   },
   "outputs": [
    {
     "data": {
      "text/plain": [
       "27"
      ]
     },
     "execution_count": 1,
     "metadata": {},
     "output_type": "execute_result"
    }
   ],
   "source": [
    "#Chapter 3 Exercises\n",
    "#Splitting Genomic DNA\n",
    "dna_file = open(\"genomic_dna.txt\")\n",
    "my_dna = dna_file.read()\n",
    "\n",
    "exon1 = my_dna[0:63]\n",
    "intron = my_dna[63:90]\n",
    "exon2 = my_dna[90:]\n",
    "\n",
    "coding_file = open(\"coding_dna.txt\", \"w\")\n",
    "noncoding_file = open(\"noncoding_dna.txt\", \"w\")\n",
    "\n",
    "coding_file.write(exon1 + exon2)\n",
    "noncoding_file.write(intron)"
   ]
  },
  {
   "cell_type": "code",
   "execution_count": 2,
   "metadata": {
    "collapsed": false
   },
   "outputs": [
    {
     "data": {
      "text/plain": [
       "32"
      ]
     },
     "execution_count": 2,
     "metadata": {},
     "output_type": "execute_result"
    }
   ],
   "source": [
    "#Writing A Fasta File\n",
    "header_1 = \"ABC123\"\n",
    "header_2 = \"DEF456\"\n",
    "header_3 = \"HIJ789\"\n",
    "\n",
    "seq_1 = \"ATCGTACGATCGATCGATCGCTAGACGTATCG\"\n",
    "seq_2 = \"actgatcgacgatcgatcgatcacgact\"\n",
    "seq_3 = \"ACTGAC-ACTGT--ACTGTA----CATGTG\"\n",
    "\n",
    "output = open(\"sequences.fasta\", \"w\")\n",
    "\n",
    "output.write('>' + header_1 + '\\n' + seq_1 + '\\n') \n",
    "\n",
    "output.write('>' + header_2 + '\\n' + seq_2.upper() + '\\n') \n",
    "\n",
    "output.write('>' + header_3 + '\\n' + seq_3.replace('-', '') + '\\n')"
   ]
  },
  {
   "cell_type": "code",
   "execution_count": 3,
   "metadata": {
    "collapsed": false
   },
   "outputs": [
    {
     "name": "stdout",
     "output_type": "stream",
     "text": [
      "processed sequence with length 42\n",
      "processed sequence with length 37\n",
      "processed sequence with length 48\n",
      "processed sequence with length 33\n",
      "processed sequence with length 47\n"
     ]
    }
   ],
   "source": [
    "#Chapter 4 Exercises\n",
    "#Processing DNA in a File\n",
    "file = open(\"input.txt\")\n",
    "\n",
    "output = open(\"trimmed.txt\", \"w\")\n",
    "\n",
    "for dna in file:\n",
    "\n",
    "    trimmed_dna = dna[14:]\n",
    "\n",
    "    trimmed_length = len(trimmed_dna) - 1\n",
    "\n",
    "    output.write(trimmed_dna)\n",
    "\n",
    "    print(\"processed sequence with length \" + str(trimmed_length))"
   ]
  },
  {
   "cell_type": "code",
   "execution_count": 1,
   "metadata": {
    "collapsed": false
   },
   "outputs": [],
   "source": [
    "#Multiple Exons From Genomic DNA\n",
    "genomic_dna = open(\"genomic_dna.txt\").read()\n",
    "\n",
    "exon_locations = open(\"exons.txt\")\n",
    "\n",
    "coding_sequence = \"\"\n",
    "\n",
    "for line in exon_locations:\n",
    "\n",
    "    positions = line.split(',')\n",
    "\n",
    "    start = int(positions[0])\n",
    "    stop = int(positions[1])\n",
    "\n",
    "    exon = genomic_dna[start:stop]\n",
    "\n",
    "    coding_sequence = coding_sequence + exon\n",
    "\n",
    "output = open(\"coding_sequence.txt\", \"w\")\n",
    "output.write(coding_sequence)\n",
    "output.close()"
   ]
  },
  {
   "cell_type": "code",
   "execution_count": null,
   "metadata": {
    "collapsed": true
   },
   "outputs": [],
   "source": []
  }
 ],
 "metadata": {
  "anaconda-cloud": {},
  "kernelspec": {
   "display_name": "Python [default]",
   "language": "python",
   "name": "python3"
  },
  "language_info": {
   "codemirror_mode": {
    "name": "ipython",
    "version": 3
   },
   "file_extension": ".py",
   "mimetype": "text/x-python",
   "name": "python",
   "nbconvert_exporter": "python",
   "pygments_lexer": "ipython3",
   "version": "3.5.2"
  }
 },
 "nbformat": 4,
 "nbformat_minor": 2
}
