{
 "cells": [
  {
   "cell_type": "markdown",
   "metadata": {},
   "source": [
    "## Part 1\n",
    "![badge1](python-syntax-screenshot.png)\n",
    "\n",
    "![badge2](Strings&Console-Output-screenshot.png)\n",
    "\n",
    "![badge3](Conditionals&Workflows-screenshot.png)\n",
    "\n",
    "![badge4](Functions-screenshot.png)\n",
    "\n",
    "![badge5](python-syntax-screenshot.png)\n",
    "\n",
    "![badge6](Lists-and-Functions.png)\n",
    "\n",
    "![badge7](Loops-screenshot.png)\n",
    "\n",
    "\n",
    "\n",
    "## Part 2\n",
    "I will start this quesion by defining the dictionary given to me from the exercise file. This dictionary contains all possible codons as its keys, and the one-letter code for the amino acid that the codon codes for. This dictionary will alloq me to easily identify any codon as an amino acid. \n",
    "\n",
    "I will then define my function as:\n",
    "\n",
    "\n",
    "    def translate_dna():\n",
    "\n",
    "\n",
    "I then need to define the length of the sequence with:\n",
    "\n",
    "\n",
    "    last_codon_start = len(dna) - 2\n",
    "\n",
    "\n",
    "and define an empty string for the protein:\n",
    "\n",
    "\n",
    "    protein = \"\"\n",
    "\n",
    "then I will write a for loop that ranges for each three set of the sequence, forming the codon:\n",
    "\n",
    "    for start in range(0,last_codon_start,3):\n",
    "        codon = dna[start:start+3]\n",
    "        aa = gencode.get(codon, 'X')\n",
    "        protein = protein + aa\n",
    "and finally I will return the protein:\n",
    "\n",
    "    return protein\n",
    "\n",
    "I tested the function with the example sequences that the solutions section used."
   ]
  },
  {
   "cell_type": "code",
   "execution_count": 3,
   "metadata": {
    "collapsed": false
   },
   "outputs": [
    {
     "name": "stdout",
     "output_type": "stream",
     "text": [
      "MFG\n",
      "IDR\n",
      "TXD\n"
     ]
    }
   ],
   "source": [
    "# function for Part 2\n",
    "gencode = {\n",
    "    'ATA':'I', 'ATC':'I', 'ATT':'I', 'ATG':'M',\n",
    "    'ACA':'T', 'ACC':'T', 'ACG':'T', 'ACT':'T',\n",
    "    'AAC':'N', 'AAT':'N', 'AAA':'K', 'AAG':'K',\n",
    "    'AGC':'S', 'AGT':'S', 'AGA':'R', 'AGG':'R',\n",
    "    'CTA':'L', 'CTC':'L', 'CTG':'L', 'CTT':'L',\n",
    "    'CCA':'P', 'CCC':'P', 'CCG':'P', 'CCT':'P',\n",
    "    'CAC':'H', 'CAT':'H', 'CAA':'Q', 'CAG':'Q',\n",
    "    'CGA':'R', 'CGC':'R', 'CGG':'R', 'CGT':'R',\n",
    "    'GTA':'V', 'GTC':'V', 'GTG':'V', 'GTT':'V',\n",
    "    'GCA':'A', 'GCC':'A', 'GCG':'A', 'GCT':'A',\n",
    "    'GAC':'D', 'GAT':'D', 'GAA':'E', 'GAG':'E',\n",
    "    'GGA':'G', 'GGC':'G', 'GGG':'G', 'GGT':'G',\n",
    "    'TCA':'S', 'TCC':'S', 'TCG':'S', 'TCT':'S',\n",
    "    'TTC':'F', 'TTT':'F', 'TTA':'L', 'TTG':'L',\n",
    "    'TAC':'Y', 'TAT':'Y', 'TAA':'_', 'TAG':'_',\n",
    "    'TGC':'C', 'TGT':'C', 'TGA':'_', 'TGG':'W'}\n",
    "def translate_dna(dna):\n",
    "    last_codon_start = len(dna) - 2\n",
    "    protein = \"\"\n",
    "    for start in range(0,last_codon_start,3):\n",
    "        codon = dna[start:start+3]\n",
    "        aa = gencode.get(codon, 'X')\n",
    "        protein = protein + aa\n",
    "    return protein\n",
    "\n",
    "# input sequence is easy\n",
    "print(translate_dna(\"ATGTTCGGT\"))\n",
    "# input sequence has incomplete codons at the end\n",
    "print(translate_dna(\"ATCGATCGAT\"))\n",
    "# input sequence contains N\n",
    "print(translate_dna(\"ACGANCGAT\"))"
   ]
  },
  {
   "cell_type": "code",
   "execution_count": 4,
   "metadata": {
    "collapsed": true
   },
   "outputs": [],
   "source": [
    "# Part 3\n",
    "# Question 1\n",
    "import scipy\n",
    "\n",
    "def build_population(N, p):\n",
    "    population = []\n",
    "    for i in range(N):\n",
    "        allele1 = \"A\"\n",
    "        if scipy.random.rand() > p:\n",
    "            allele1 = \"a\"\n",
    "        allele2 = \"A\"\n",
    "        if scipy.random.rand() > p:\n",
    "            allele2 = \"a\"\n",
    "        population.append((allele1, allele2))\n",
    "    return population"
   ]
  },
  {
   "cell_type": "code",
   "execution_count": 5,
   "metadata": {
    "collapsed": false
   },
   "outputs": [
    {
     "data": {
      "text/plain": [
       "[('A', 'A'),\n",
       " ('A', 'A'),\n",
       " ('A', 'A'),\n",
       " ('A', 'a'),\n",
       " ('A', 'a'),\n",
       " ('A', 'A'),\n",
       " ('A', 'A'),\n",
       " ('A', 'A'),\n",
       " ('A', 'A'),\n",
       " ('a', 'a')]"
      ]
     },
     "execution_count": 5,
     "metadata": {},
     "output_type": "execute_result"
    }
   ],
   "source": [
    "build_population(10, 0.7)"
   ]
  },
  {
   "cell_type": "code",
   "execution_count": 10,
   "metadata": {
    "collapsed": false
   },
   "outputs": [],
   "source": [
    "def compute_frequencies(population):\n",
    "    AA = population.count(('A', 'A'))\n",
    "    Aa = population.count(('A', 'a'))\n",
    "    aA = population.count(('a', 'A'))\n",
    "    aa = population.count(('a', 'a'))\n",
    "    return({'AA': AA,\n",
    "            'aa': aa,\n",
    "            'Aa': Aa,\n",
    "            'aA': aA})"
   ]
  },
  {
   "cell_type": "code",
   "execution_count": 12,
   "metadata": {
    "collapsed": false
   },
   "outputs": [
    {
     "data": {
      "text/plain": [
       "[('a', 'A'), ('a', 'A'), ('a', 'A'), ('A', 'a'), ('a', 'a'), ('a', 'a')]"
      ]
     },
     "execution_count": 12,
     "metadata": {},
     "output_type": "execute_result"
    }
   ],
   "source": [
    "my_pop = build_population(6, 0.5)\n",
    "my_pop"
   ]
  },
  {
   "cell_type": "code",
   "execution_count": 13,
   "metadata": {
    "collapsed": false
   },
   "outputs": [
    {
     "data": {
      "text/plain": [
       "{'AA': 0, 'Aa': 1, 'aA': 3, 'aa': 2}"
      ]
     },
     "execution_count": 13,
     "metadata": {},
     "output_type": "execute_result"
    }
   ],
   "source": [
    "compute_frequencies(my_pop)"
   ]
  },
  {
   "cell_type": "code",
   "execution_count": 17,
   "metadata": {
    "collapsed": false
   },
   "outputs": [],
   "source": [
    "def reproduce_population(population):\n",
    "    new_generation = []\n",
    "    N = len(population)\n",
    "    for i in range(N):\n",
    "        dad = scipy.random.randint(N)\n",
    "        mom = scipy.random.randint(N)\n",
    "        chr_mom = scipy.random.randint(2)\n",
    "        offspring = (population[mom][chr_mom], population[\n",
    "            dad][1 - chr_mom])\n",
    "        new_generation.append(offspring)\n",
    "    return(new_generation)"
   ]
  },
  {
   "cell_type": "code",
   "execution_count": 18,
   "metadata": {
    "collapsed": false
   },
   "outputs": [
    {
     "data": {
      "text/plain": [
       "[('A', 'a'), ('A', 'a'), ('a', 'a'), ('a', 'a'), ('A', 'a'), ('a', 'a')]"
      ]
     },
     "execution_count": 18,
     "metadata": {},
     "output_type": "execute_result"
    }
   ],
   "source": [
    "reproduce_population(my_pop)"
   ]
  },
  {
   "cell_type": "code",
   "execution_count": 27,
   "metadata": {
    "collapsed": false
   },
   "outputs": [],
   "source": [
    "def stimulate_drift(N, p):\n",
    "    my_pop = build_population(N, p)\n",
    "    fixation = False\n",
    "    num_generations = 0\n",
    "    while fixation == False:\n",
    "        genotype_counts = compute_frequencies(my_pop)\n",
    "        if genotype_counts['AA'] == N or genotype_counts['aa'] == N:\n",
    "            print('An allele reached fixation at generation',num_generations)\n",
    "            print('The genotype counts are')\n",
    "            print(genotype_counts)\n",
    "            fixation == True\n",
    "            break\n",
    "        my_pop = reproduce_population(my_pop)\n",
    "        num_generations = num_generations + 1"
   ]
  },
  {
   "cell_type": "code",
   "execution_count": 28,
   "metadata": {
    "collapsed": false
   },
   "outputs": [
    {
     "name": "stdout",
     "output_type": "stream",
     "text": [
      "An allele reached fixation at generation 161\n",
      "The genotype counts are\n",
      "{'aa': 0, 'aA': 0, 'AA': 100, 'Aa': 0}\n"
     ]
    }
   ],
   "source": [
    "stimulate_drift(100, 0.5)"
   ]
  },
  {
   "cell_type": "code",
   "execution_count": 29,
   "metadata": {
    "collapsed": false
   },
   "outputs": [
    {
     "name": "stdout",
     "output_type": "stream",
     "text": [
      "An allele reached fixation at generation 29\n",
      "The genotype counts are\n",
      "{'aa': 0, 'aA': 0, 'AA': 100, 'Aa': 0}\n"
     ]
    }
   ],
   "source": [
    "stimulate_drift(100, 0.9)"
   ]
  },
  {
   "cell_type": "code",
   "execution_count": null,
   "metadata": {
    "collapsed": true
   },
   "outputs": [],
   "source": []
  }
 ],
 "metadata": {
  "anaconda-cloud": {},
  "kernelspec": {
   "display_name": "Python [default]",
   "language": "python",
   "name": "python3"
  },
  "language_info": {
   "codemirror_mode": {
    "name": "ipython",
    "version": 3
   },
   "file_extension": ".py",
   "mimetype": "text/x-python",
   "name": "python",
   "nbconvert_exporter": "python",
   "pygments_lexer": "ipython3",
   "version": "3.5.2"
  }
 },
 "nbformat": 4,
 "nbformat_minor": 2
}
