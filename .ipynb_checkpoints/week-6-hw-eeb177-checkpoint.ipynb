{
 "cells": [
  {
   "cell_type": "markdown",
   "metadata": {},
   "source": [
    "![badge1](python-syntax-screenshot.png)\n",
    "\n",
    "![badge2](Strings&Console-Output-screenshot.png)\n",
    "\n",
    "![badge3](Conditionals&Workflows-screenshot.png)\n",
    "\n",
    "![badge4](Functions-screenshot.png)\n",
    "\n",
    "![badge5](python-syntax-screenshot.png)\n",
    "\n",
    "![badge6](Lists-and-Functions.png)\n",
    "\n",
    "![badge7](Loops-screenshot.png)"
   ]
  },
  {
   "cell_type": "code",
   "execution_count": null,
   "metadata": {
    "collapsed": true
   },
   "outputs": [],
   "source": []
  }
 ],
 "metadata": {
  "anaconda-cloud": {},
  "kernelspec": {
   "display_name": "Python [default]",
   "language": "python",
   "name": "python3"
  },
  "language_info": {
   "codemirror_mode": {
    "name": "ipython",
    "version": 3
   },
   "file_extension": ".py",
   "mimetype": "text/x-python",
   "name": "python",
   "nbconvert_exporter": "python",
   "pygments_lexer": "ipython3",
   "version": "3.5.2"
  }
 },
 "nbformat": 4,
 "nbformat_minor": 2
}
